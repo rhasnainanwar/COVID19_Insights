{
 "cells": [
  {
   "cell_type": "code",
   "execution_count": 1,
   "metadata": {},
   "outputs": [],
   "source": [
    "import os\n",
    "\n",
    "import pandas as pd\n",
    "import numpy as np\n",
    "import matplotlib.pyplot as plt\n",
    "\n",
    "from datetime import datetime"
   ]
  },
  {
   "cell_type": "code",
   "execution_count": 2,
   "metadata": {},
   "outputs": [],
   "source": [
    "import warnings\n",
    "warnings.filterwarnings('ignore')"
   ]
  },
  {
   "cell_type": "code",
   "execution_count": 3,
   "metadata": {},
   "outputs": [],
   "source": [
    "path = 'data'\n",
    "\n",
    "data = pd.read_csv(os.path.join(path, 'latestdata.csv'))\n",
    "data = data[['date_confirmation', 'date_death_or_discharge', 'outcome']].copy()"
   ]
  },
  {
   "cell_type": "code",
   "execution_count": 4,
   "metadata": {},
   "outputs": [
    {
     "data": {
      "text/plain": [
       "array(['Alive', 'Critical condition', 'Dead', 'Death', 'Deceased', 'Died',\n",
       "       'Discharged', 'Discharged from hospital', 'NA',\n",
       "       'Receiving Treatment', 'Recovered', 'Stable',\n",
       "       'Symptoms only improved with cough. Currently hospitalized for follow-up.',\n",
       "       'Under treatment', 'critical condition',\n",
       "       'critical condition, intubated as of 14.02.2020', 'dead', 'death',\n",
       "       'died', 'discharge', 'discharged', 'not hospitalized', 'recovered',\n",
       "       'recovering at home 03.03.2020', 'released from quarantine',\n",
       "       'severe', 'severe illness', 'stable', 'stable condition',\n",
       "       'treated in an intensive care unit (14.02.2020)', 'unstable'],\n",
       "      dtype=object)"
      ]
     },
     "execution_count": 4,
     "metadata": {},
     "output_type": "execute_result"
    }
   ],
   "source": [
    "data['outcome'] = data['outcome'].fillna('NA')\n",
    "np.unique(data['outcome'])"
   ]
  },
  {
   "cell_type": "code",
   "execution_count": 5,
   "metadata": {},
   "outputs": [],
   "source": [
    "data['outcome'] = data['outcome'].replace(['Death', 'death', 'dead', 'Dead', 'Deceased', 'Died'], 'died')\n",
    "data['outcome'] = data['outcome'].replace(['Discharged', 'Discharged from hospital', \n",
    "                                'discharge', 'discharged', 'released from quarantine', 'Alive'], 'recovered')"
   ]
  },
  {
   "cell_type": "code",
   "execution_count": 6,
   "metadata": {},
   "outputs": [],
   "source": [
    "def days_to(data, type_):\n",
    "    total_days = list()\n",
    "    for i, row in data.iterrows():\n",
    "        try:\n",
    "            start = datetime.strptime(row['date_confirmation'], '%d.%m.%Y')\n",
    "            end = datetime.strptime(row['date_death_or_discharge'], '%d.%m.%Y')\n",
    "        except:\n",
    "            continue\n",
    "\n",
    "        days = (end - start).days\n",
    "\n",
    "        if days > 0:\n",
    "            total_days.append(days)\n",
    "    \n",
    "    print('Mininum no. of days:', min(total_days))\n",
    "    print('Average no. of days:', sum(total_days)//len(total_days))\n",
    "    print('Maximum no. of days:', max(total_days))\n",
    "    print('Cases observed:', len(total_days))\n",
    "\n",
    "    plt.figure(figsize=(10,5))\n",
    "    plt.boxplot(total_days, vert=False)\n",
    "    if type_ == 'recovery':\n",
    "        plt.title('Number of days to recover after confirmation')\n",
    "    elif type_ == 'death':\n",
    "        plt.title('Number of days before death after confirmation')\n",
    "    plt.show()"
   ]
  },
  {
   "cell_type": "code",
   "execution_count": 7,
   "metadata": {},
   "outputs": [
    {
     "name": "stdout",
     "output_type": "stream",
     "text": [
      "Mininum no. of days: 1\n",
      "Average no. of days: 12\n",
      "Maximum no. of days: 40\n",
      "Cases observed: 267\n"
     ]
    },
    {
     "data": {
      "image/png": "[encoded data removed]",
      "text/plain": [
       "<Figure size 720x360 with 1 Axes>"
      ]
     },
     "metadata": {
      "needs_background": "light"
     },
     "output_type": "display_data"
    }
   ],
   "source": [
    "data_recovered = data[data['outcome'] == 'recovered'].dropna()\n",
    "days_to(data_recovered, 'recovery')"
   ]
  },
  {
   "cell_type": "code",
   "execution_count": 8,
   "metadata": {
    "scrolled": false
   },
   "outputs": [
    {
     "name": "stdout",
     "output_type": "stream",
     "text": [
      "Mininum no. of days: 1\n",
      "Average no. of days: 3\n",
      "Maximum no. of days: 18\n",
      "Cases observed: 73\n"
     ]
    },
    {
     "data": {
      "image/png": "[encoded data removed]",
      "text/plain": [
       "<Figure size 720x360 with 1 Axes>"
      ]
     },
     "metadata": {
      "needs_background": "light"
     },
     "output_type": "display_data"
    }
   ],
   "source": [
    "data_death = data[data['outcome'] == 'died'].dropna()\n",
    "days_to(data_death, 'death')"
   ]
  }
 ],
 "metadata": {
  "kernelspec": {
   "display_name": "Python 3",
   "language": "python",
   "name": "python3"
  },
  "language_info": {
   "codemirror_mode": {
    "name": "ipython",
    "version": 3
   },
   "file_extension": ".py",
   "mimetype": "text/x-python",
   "name": "python",
   "nbconvert_exporter": "python",
   "pygments_lexer": "ipython3",
   "version": "3.6.9"
  }
 },
 "nbformat": 4,
 "nbformat_minor": 2
}
